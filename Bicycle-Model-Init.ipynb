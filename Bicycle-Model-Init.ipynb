{
 "cells": [
  {
   "cell_type": "code",
   "execution_count": 2,
   "id": "35478022",
   "metadata": {},
   "outputs": [],
   "source": [
    "import math"
   ]
  },
  {
   "cell_type": "code",
   "execution_count": 3,
   "id": "21c1db06",
   "metadata": {},
   "outputs": [
    {
     "ename": "AttributeError",
     "evalue": "'KineticBicycleModel' object has no attribute 'x'",
     "output_type": "error",
     "traceback": [
      "\u001b[1;31m---------------------------------------------------------------------------\u001b[0m",
      "\u001b[1;31mAttributeError\u001b[0m                            Traceback (most recent call last)",
      "Cell \u001b[1;32mIn[3], line 27\u001b[0m\n\u001b[0;32m     24\u001b[0m car \u001b[38;5;241m=\u001b[39m KineticBicycleModel(wheelbase\u001b[38;5;241m=\u001b[39m\u001b[38;5;241m2.5\u001b[39m, steering_angle\u001b[38;5;241m=\u001b[39m\u001b[38;5;241m20\u001b[39m, speed\u001b[38;5;241m=\u001b[39m\u001b[38;5;241m10\u001b[39m)\n\u001b[0;32m     26\u001b[0m delta_time \u001b[38;5;241m=\u001b[39m \u001b[38;5;241m0.1\u001b[39m\n\u001b[1;32m---> 27\u001b[0m car\u001b[38;5;241m.\u001b[39mupdate_position(delta_time)\n\u001b[0;32m     28\u001b[0m \u001b[38;5;28mprint\u001b[39m(\u001b[38;5;124mf\u001b[39m\u001b[38;5;124m\"\u001b[39m\u001b[38;5;124mNew position: (\u001b[39m\u001b[38;5;132;01m{\u001b[39;00mcar\u001b[38;5;241m.\u001b[39mx\u001b[38;5;132;01m}\u001b[39;00m\u001b[38;5;124m, \u001b[39m\u001b[38;5;132;01m{\u001b[39;00mcar\u001b[38;5;241m.\u001b[39my\u001b[38;5;132;01m}\u001b[39;00m\u001b[38;5;124m)\u001b[39m\u001b[38;5;124m\"\u001b[39m)\n",
      "Cell \u001b[1;32mIn[3], line 18\u001b[0m, in \u001b[0;36mKineticBicycleModel.update_position\u001b[1;34m(self, delta_time)\u001b[0m\n\u001b[0;32m     15\u001b[0m R \u001b[38;5;241m=\u001b[39m \u001b[38;5;28mself\u001b[39m\u001b[38;5;241m.\u001b[39mwheelbase \u001b[38;5;241m/\u001b[39m math\u001b[38;5;241m.\u001b[39mtan(beta)\n\u001b[0;32m     16\u001b[0m theta \u001b[38;5;241m=\u001b[39m \u001b[38;5;28mself\u001b[39m\u001b[38;5;241m.\u001b[39mspeed \u001b[38;5;241m/\u001b[39m R\n\u001b[1;32m---> 18\u001b[0m new_x \u001b[38;5;241m=\u001b[39m \u001b[38;5;28mself\u001b[39m\u001b[38;5;241m.\u001b[39mx \u001b[38;5;241m+\u001b[39m \u001b[38;5;28mself\u001b[39m\u001b[38;5;241m.\u001b[39mspeed \u001b[38;5;241m*\u001b[39m delta_time \u001b[38;5;241m*\u001b[39m math\u001b[38;5;241m.\u001b[39mcos(theta)\n\u001b[0;32m     19\u001b[0m new_y \u001b[38;5;241m=\u001b[39m \u001b[38;5;28mself\u001b[39m\u001b[38;5;241m.\u001b[39my \u001b[38;5;241m+\u001b[39m \u001b[38;5;28mself\u001b[39m\u001b[38;5;241m.\u001b[39mspeed \u001b[38;5;241m*\u001b[39m delta_time \u001b[38;5;241m*\u001b[39m math\u001b[38;5;241m.\u001b[39msin(theta)\n\u001b[0;32m     21\u001b[0m \u001b[38;5;28mself\u001b[39m\u001b[38;5;241m.\u001b[39mx \u001b[38;5;241m=\u001b[39m new_x\n",
      "\u001b[1;31mAttributeError\u001b[0m: 'KineticBicycleModel' object has no attribute 'x'"
     ]
    }
   ],
   "source": [
    "class KineticBicycleModel:\n",
    "    def __init__(self, wheelbase, steering_angle, speed):\n",
    "        self.wheelbase = wheelbase\n",
    "        self.steering_angle = steering_angle\n",
    "        self.speed = speed\n",
    "\n",
    "    def update_steering_angle(self, new_steering_angle):\n",
    "        self.steering_angle = new_steering_angle\n",
    "\n",
    "    def update_speed(self, new_speed):\n",
    "        self.speed = new_speed\n",
    "\n",
    "    def update_position(self, delta_time):\n",
    "        beta = math.radians(self.steering_angle)\n",
    "        R = self.wheelbase / math.tan(beta)\n",
    "        theta = self.speed / R\n",
    "\n",
    "        new_x = self.x + self.speed * delta_time * math.cos(theta)\n",
    "        new_y = self.y + self.speed * delta_time * math.sin(theta)\n",
    "\n",
    "        self.x = new_x\n",
    "        self.y = new_y\n",
    "\n",
    "car = KineticBicycleModel(wheelbase=2.5, steering_angle=20, speed=10)\n",
    "\n",
    "delta_time = 0.1\n",
    "car.update_position(delta_time)\n",
    "print(f\"New position: ({car.x}, {car.y})\")"
   ]
  },
  {
   "cell_type": "code",
   "execution_count": null,
   "id": "ae1118ab",
   "metadata": {},
   "outputs": [],
   "source": []
  }
 ],
 "metadata": {
  "kernelspec": {
   "display_name": "Python 3 (ipykernel)",
   "language": "python",
   "name": "python3"
  },
  "language_info": {
   "codemirror_mode": {
    "name": "ipython",
    "version": 3
   },
   "file_extension": ".py",
   "mimetype": "text/x-python",
   "name": "python",
   "nbconvert_exporter": "python",
   "pygments_lexer": "ipython3",
   "version": "3.11.5"
  }
 },
 "nbformat": 4,
 "nbformat_minor": 5
}
